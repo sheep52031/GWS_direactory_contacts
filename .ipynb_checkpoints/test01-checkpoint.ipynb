{
 "cells": [
  {
   "cell_type": "code",
   "execution_count": null,
   "id": "0f95ed9d",
   "metadata": {},
   "outputs": [],
   "source": [
    "import logging\n",
    "from google.oauth2 import service_account\n",
    "from googleapiclient.discovery import build\n",
    "\n",
    "import os\n",
    "\n",
    "# Configure logging\n",
    "logging.basicConfig(filename='app.log', filemode='w', level=logging.INFO, format='%(name)s - %(levelname)s - %(message)s')\n",
    "\n",
    "# Path to your Service Account key file\n",
    "key_file_path = 'directory-test-387900-a9df781feda6.json'\n",
    "\n",
    "# Load the Service Account credentials\n",
    "creds = service_account.Credentials.from_service_account_file(\n",
    "    key_file_path,\n",
    "    scopes=['https://www.googleapis.com/auth/admin.directory.user', 'https://www.googleapis.com/auth/contacts'])\n",
    "\n",
    "# Delegating authority to the service account to impersonate a user\n",
    "delegated_creds = creds.with_subject('jason.c.lin@gws.jasonengr.com')  # Replace with your Google Workspace admin user\n",
    "\n",
    "# Create a service object\n",
    "service = build('people', 'v1', credentials=delegated_creds)\n",
    "service_admin = build('admin', 'directory_v1', credentials=delegated_creds)\n",
    "\n",
    "# Get all users\n",
    "results = service_admin.users().list(customer='C03objz98').execute()\n",
    "users = results.get('users', [])\n",
    "\n",
    "# Define target user\n",
    "target_user_email = 'jason.c.lin@gws.jasonengr.com'\n",
    "\n",
    "# For each user\n",
    "for contact in users:\n",
    "    if contact['primaryEmail'] != target_user_email:\n",
    "        # Add to target user's contact list\n",
    "        service.people().createContact(body={\n",
    "            'names': [{'givenName': contact['name']['fullName']}],\n",
    "            'emailAddresses': [{'value': contact['primaryEmail']}]\n",
    "        }).execute()\n",
    "        # Log successful contact creation\n",
    "        logging.info(f\"Added contact: {contact['primaryEmail']} to {target_user_email}\")\n"
   ]
  }
 ],
 "metadata": {
  "kernelspec": {
   "display_name": "Python [conda env:directory-test_py3_10_8] *",
   "language": "python",
   "name": "conda-env-directory-test_py3_10_8-py"
  },
  "language_info": {
   "codemirror_mode": {
    "name": "ipython",
    "version": 3
   },
   "file_extension": ".py",
   "mimetype": "text/x-python",
   "name": "python",
   "nbconvert_exporter": "python",
   "pygments_lexer": "ipython3",
   "version": "3.10.8"
  }
 },
 "nbformat": 4,
 "nbformat_minor": 5
}
