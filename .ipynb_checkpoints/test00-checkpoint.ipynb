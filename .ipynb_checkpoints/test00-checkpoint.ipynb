{
 "cells": [
  {
   "cell_type": "code",
   "execution_count": 33,
   "id": "f9c4810f",
   "metadata": {},
   "outputs": [
    {
     "name": "stdout",
     "output_type": "stream",
     "text": [
      "/opt/anaconda3/envs/directory-test_py3_10_8/bin/python\n"
     ]
    }
   ],
   "source": [
    "import sys\n",
    "print(sys.executable)"
   ]
  },
  {
   "cell_type": "code",
   "execution_count": 34,
   "id": "bd578211",
   "metadata": {},
   "outputs": [],
   "source": [
    "from google.oauth2 import service_account\n",
    "from googleapiclient.discovery import build\n",
    "from google_auth_oauthlib.flow import InstalledAppFlow\n",
    "from google.auth.transport.requests import Request\n",
    "\n",
    "import os\n",
    "import pickle"
   ]
  },
  {
   "cell_type": "code",
   "execution_count": 35,
   "id": "38a16c69",
   "metadata": {},
   "outputs": [],
   "source": [
    "# Load the credentials\n",
    "creds = None\n",
    "if os.path.exists('token.pickle'):\n",
    "    with open('token.pickle', 'rb') as token:\n",
    "        creds = pickle.load(token)\n",
    "if not creds or not creds.valid:\n",
    "    if creds and creds.expired and creds.refresh_token:\n",
    "        creds.refresh(Request())\n",
    "    else:\n",
    "        flow = InstalledAppFlow.from_client_secrets_file(\n",
    "            'client_secret_1069939933769-6hmdmbu3e7ndsep1jbn2idrbv02vmgku.apps.googleusercontent.com.json', \n",
    "            ['https://www.googleapis.com/auth/admin.directory.user'])\n",
    "        creds = flow.run_local_server(port=0)\n",
    "    with open('token.pickle', 'wb') as token:\n",
    "        pickle.dump(creds, token)"
   ]
  },
  {
   "cell_type": "code",
   "execution_count": 36,
   "id": "4b392cfb",
   "metadata": {},
   "outputs": [],
   "source": [
    "# Create a service object\n",
    "service = build('people', 'v1', credentials=creds)\n",
    "service_admin = build('admin', 'directory_v1', credentials=creds)"
   ]
  },
  {
   "cell_type": "code",
   "execution_count": 37,
   "id": "622934c2",
   "metadata": {
    "scrolled": true
   },
   "outputs": [],
   "source": [
    "# Get all users\n",
    "results = service_admin.users().list(customer='C03objz98').execute()\n",
    "users = results.get('users', [])"
   ]
  },
  {
   "cell_type": "code",
   "execution_count": 38,
   "id": "63395f92",
   "metadata": {},
   "outputs": [
    {
     "name": "stdout",
     "output_type": "stream",
     "text": [
      "[{'kind': 'admin#directory#user', 'id': '107310617708040826552', 'etag': '\"82YgmLpRVC5iA-bU28dUqy2uCKS7KMlDQDk3vW-TM2Y/H77ILrCMOaHZfr-V6py3-Z52ud0\"', 'primaryEmail': 'jason.c.lin@gws.jasonengr.com', 'name': {'givenName': '家任', 'familyName': '林', 'fullName': '林家任'}, 'isAdmin': True, 'isDelegatedAdmin': False, 'lastLoginTime': '2023-05-26T05:06:59.000Z', 'creationTime': '2023-05-25T08:59:54.000Z', 'agreedToTerms': True, 'suspended': False, 'archived': False, 'changePasswordAtNextLogin': False, 'ipWhitelisted': False, 'emails': [{'address': 'jason.c.lin@gws.jasonengr.com', 'primary': True}, {'address': 'jason.c.lin@gws.jasonengr.com.test-google-a.com'}], 'languages': [{'languageCode': 'en', 'preference': 'preferred'}], 'nonEditableAliases': ['jason.c.lin@gws.jasonengr.com.test-google-a.com'], 'customerId': 'C03objz98', 'orgUnitPath': '/', 'isMailboxSetup': True, 'isEnrolledIn2Sv': False, 'isEnforcedIn2Sv': False, 'includeInGlobalAddressList': True}, {'kind': 'admin#directory#user', 'id': '109779187232715583584', 'etag': '\"82YgmLpRVC5iA-bU28dUqy2uCKS7KMlDQDk3vW-TM2Y/sAPQmoBtbEQO9GWeRIx2wGY4KQE\"', 'primaryEmail': 'peter@gws.jasonengr.com', 'name': {'givenName': 'Peter', 'familyName': 'Lin', 'fullName': 'Peter Lin'}, 'isAdmin': False, 'isDelegatedAdmin': False, 'lastLoginTime': '1970-01-01T00:00:00.000Z', 'creationTime': '2023-05-25T09:38:49.000Z', 'agreedToTerms': False, 'suspended': False, 'archived': False, 'changePasswordAtNextLogin': False, 'ipWhitelisted': False, 'emails': [{'address': 'peter@gws.jasonengr.com', 'primary': True}, {'address': 'peter@gws.jasonengr.com.test-google-a.com'}], 'languages': [{'languageCode': 'en', 'preference': 'preferred'}], 'nonEditableAliases': ['peter@gws.jasonengr.com.test-google-a.com'], 'customerId': 'C03objz98', 'orgUnitPath': '/', 'isMailboxSetup': True, 'isEnrolledIn2Sv': False, 'isEnforcedIn2Sv': False, 'includeInGlobalAddressList': True}, {'kind': 'admin#directory#user', 'id': '104084337012217361947', 'etag': '\"82YgmLpRVC5iA-bU28dUqy2uCKS7KMlDQDk3vW-TM2Y/iQoZUPHqFvPA2pEtAJMGxA7RFj8\"', 'primaryEmail': 'test01@gws.jasonengr.com', 'name': {'givenName': 'test01', 'familyName': 'Lin', 'fullName': 'test01 Lin'}, 'isAdmin': False, 'isDelegatedAdmin': False, 'lastLoginTime': '1970-01-01T00:00:00.000Z', 'creationTime': '2023-05-25T13:19:47.000Z', 'agreedToTerms': False, 'suspended': False, 'archived': False, 'changePasswordAtNextLogin': False, 'ipWhitelisted': False, 'emails': [{'address': 'test01@gws.jasonengr.com', 'primary': True}, {'address': 'test01@gws.jasonengr.com.test-google-a.com'}], 'languages': [{'languageCode': 'en', 'preference': 'preferred'}], 'nonEditableAliases': ['test01@gws.jasonengr.com.test-google-a.com'], 'customerId': 'C03objz98', 'orgUnitPath': '/', 'isMailboxSetup': True, 'isEnrolledIn2Sv': False, 'isEnforcedIn2Sv': False, 'includeInGlobalAddressList': True}, {'kind': 'admin#directory#user', 'id': '111249008978173561857', 'etag': '\"82YgmLpRVC5iA-bU28dUqy2uCKS7KMlDQDk3vW-TM2Y/P_1t73p49ZeKw_a5p7GsMc5qRCY\"', 'primaryEmail': 'test02@gws.jasonengr.com', 'name': {'givenName': 'test02', 'familyName': 'Lin', 'fullName': 'test02 Lin'}, 'isAdmin': False, 'isDelegatedAdmin': False, 'lastLoginTime': '1970-01-01T00:00:00.000Z', 'creationTime': '2023-05-25T13:20:13.000Z', 'agreedToTerms': False, 'suspended': False, 'archived': False, 'changePasswordAtNextLogin': True, 'ipWhitelisted': False, 'emails': [{'address': 'test02@gws.jasonengr.com', 'primary': True}, {'address': 'test02@gws.jasonengr.com.test-google-a.com'}], 'languages': [{'languageCode': 'en', 'preference': 'preferred'}], 'nonEditableAliases': ['test02@gws.jasonengr.com.test-google-a.com'], 'customerId': 'C03objz98', 'orgUnitPath': '/', 'isMailboxSetup': True, 'isEnrolledIn2Sv': False, 'isEnforcedIn2Sv': False, 'includeInGlobalAddressList': True}, {'kind': 'admin#directory#user', 'id': '104690368643591827733', 'etag': '\"82YgmLpRVC5iA-bU28dUqy2uCKS7KMlDQDk3vW-TM2Y/__ovFJoAy1jGAP3yQyCoyCvMyxM\"', 'primaryEmail': 'test03@gws.jasonengr.com', 'name': {'givenName': 'test03', 'familyName': 'LIN', 'fullName': 'test03 LIN'}, 'isAdmin': False, 'isDelegatedAdmin': False, 'lastLoginTime': '1970-01-01T00:00:00.000Z', 'creationTime': '2023-05-25T14:09:52.000Z', 'agreedToTerms': False, 'suspended': False, 'archived': False, 'changePasswordAtNextLogin': False, 'ipWhitelisted': False, 'emails': [{'address': 'test03@gws.jasonengr.com', 'primary': True}, {'address': 'test03@gws.jasonengr.com.test-google-a.com'}], 'languages': [{'languageCode': 'en', 'preference': 'preferred'}], 'nonEditableAliases': ['test03@gws.jasonengr.com.test-google-a.com'], 'customerId': 'C03objz98', 'orgUnitPath': '/', 'isMailboxSetup': True, 'isEnrolledIn2Sv': False, 'isEnforcedIn2Sv': False, 'includeInGlobalAddressList': True}, {'kind': 'admin#directory#user', 'id': '103655417988693305270', 'etag': '\"82YgmLpRVC5iA-bU28dUqy2uCKS7KMlDQDk3vW-TM2Y/Jqia40mYlIW1dg2vgSzNwFIAld8\"', 'primaryEmail': 'test04@gws.jasonengr.com', 'name': {'givenName': 'test04', 'familyName': 'LIN', 'fullName': 'test04 LIN'}, 'isAdmin': False, 'isDelegatedAdmin': False, 'lastLoginTime': '1970-01-01T00:00:00.000Z', 'creationTime': '2023-05-25T14:09:52.000Z', 'agreedToTerms': False, 'suspended': False, 'archived': False, 'changePasswordAtNextLogin': False, 'ipWhitelisted': False, 'emails': [{'address': 'test04@gws.jasonengr.com', 'primary': True}, {'address': 'test04@gws.jasonengr.com.test-google-a.com'}], 'languages': [{'languageCode': 'en', 'preference': 'preferred'}], 'nonEditableAliases': ['test04@gws.jasonengr.com.test-google-a.com'], 'customerId': 'C03objz98', 'orgUnitPath': '/', 'isMailboxSetup': True, 'isEnrolledIn2Sv': False, 'isEnforcedIn2Sv': False, 'includeInGlobalAddressList': True}, {'kind': 'admin#directory#user', 'id': '102871131047327560368', 'etag': '\"82YgmLpRVC5iA-bU28dUqy2uCKS7KMlDQDk3vW-TM2Y/c3IgNk7wEJyaSpc-303J8D1y-Us\"', 'primaryEmail': 'test05@gws.jasonengr.com', 'name': {'givenName': 'test05', 'familyName': 'LIN', 'fullName': 'test05 LIN'}, 'isAdmin': False, 'isDelegatedAdmin': False, 'lastLoginTime': '1970-01-01T00:00:00.000Z', 'creationTime': '2023-05-25T14:09:52.000Z', 'agreedToTerms': False, 'suspended': False, 'archived': False, 'changePasswordAtNextLogin': False, 'ipWhitelisted': False, 'emails': [{'address': 'test05@gws.jasonengr.com', 'primary': True}, {'address': 'test05@gws.jasonengr.com.test-google-a.com'}], 'languages': [{'languageCode': 'en', 'preference': 'preferred'}], 'nonEditableAliases': ['test05@gws.jasonengr.com.test-google-a.com'], 'customerId': 'C03objz98', 'orgUnitPath': '/', 'isMailboxSetup': True, 'isEnrolledIn2Sv': False, 'isEnforcedIn2Sv': False, 'includeInGlobalAddressList': True}, {'kind': 'admin#directory#user', 'id': '103216192765390824516', 'etag': '\"82YgmLpRVC5iA-bU28dUqy2uCKS7KMlDQDk3vW-TM2Y/xVWzCI76KvP61t1vK_uQpJeZR7g\"', 'primaryEmail': 'test06@gws.jasonengr.com', 'name': {'givenName': 'test06', 'familyName': 'LIN', 'fullName': 'test06 LIN'}, 'isAdmin': False, 'isDelegatedAdmin': False, 'lastLoginTime': '1970-01-01T00:00:00.000Z', 'creationTime': '2023-05-25T14:09:52.000Z', 'agreedToTerms': False, 'suspended': False, 'archived': False, 'changePasswordAtNextLogin': False, 'ipWhitelisted': False, 'emails': [{'address': 'test06@gws.jasonengr.com', 'primary': True}, {'address': 'test06@gws.jasonengr.com.test-google-a.com'}], 'languages': [{'languageCode': 'en', 'preference': 'preferred'}], 'nonEditableAliases': ['test06@gws.jasonengr.com.test-google-a.com'], 'customerId': 'C03objz98', 'orgUnitPath': '/', 'isMailboxSetup': True, 'isEnrolledIn2Sv': False, 'isEnforcedIn2Sv': False, 'includeInGlobalAddressList': True}, {'kind': 'admin#directory#user', 'id': '107480661735097959122', 'etag': '\"82YgmLpRVC5iA-bU28dUqy2uCKS7KMlDQDk3vW-TM2Y/pAyLjYxTnJoSKrGhG_koMt-Pj2o\"', 'primaryEmail': 'test07@gws.jasonengr.com', 'name': {'givenName': 'test07', 'familyName': 'LIN', 'fullName': 'test07 LIN'}, 'isAdmin': False, 'isDelegatedAdmin': False, 'lastLoginTime': '1970-01-01T00:00:00.000Z', 'creationTime': '2023-05-25T14:09:52.000Z', 'agreedToTerms': False, 'suspended': False, 'archived': False, 'changePasswordAtNextLogin': False, 'ipWhitelisted': False, 'emails': [{'address': 'test07@gws.jasonengr.com', 'primary': True}, {'address': 'test07@gws.jasonengr.com.test-google-a.com'}], 'languages': [{'languageCode': 'en', 'preference': 'preferred'}], 'nonEditableAliases': ['test07@gws.jasonengr.com.test-google-a.com'], 'customerId': 'C03objz98', 'orgUnitPath': '/', 'isMailboxSetup': True, 'isEnrolledIn2Sv': False, 'isEnforcedIn2Sv': False, 'includeInGlobalAddressList': True}, {'kind': 'admin#directory#user', 'id': '114957964342306299089', 'etag': '\"82YgmLpRVC5iA-bU28dUqy2uCKS7KMlDQDk3vW-TM2Y/vnRC76NPltZgRB3uRoilxHAgXW8\"', 'primaryEmail': 'test08@gws.jasonengr.com', 'name': {'givenName': 'test08', 'familyName': 'LIN', 'fullName': 'test08 LIN'}, 'isAdmin': False, 'isDelegatedAdmin': False, 'lastLoginTime': '1970-01-01T00:00:00.000Z', 'creationTime': '2023-05-25T14:09:52.000Z', 'agreedToTerms': False, 'suspended': False, 'archived': False, 'changePasswordAtNextLogin': False, 'ipWhitelisted': False, 'emails': [{'address': 'test08@gws.jasonengr.com', 'primary': True}, {'address': 'test08@gws.jasonengr.com.test-google-a.com'}], 'languages': [{'languageCode': 'en', 'preference': 'preferred'}], 'nonEditableAliases': ['test08@gws.jasonengr.com.test-google-a.com'], 'customerId': 'C03objz98', 'orgUnitPath': '/', 'isMailboxSetup': True, 'isEnrolledIn2Sv': False, 'isEnforcedIn2Sv': False, 'includeInGlobalAddressList': True}, {'kind': 'admin#directory#user', 'id': '102910024605574292443', 'etag': '\"82YgmLpRVC5iA-bU28dUqy2uCKS7KMlDQDk3vW-TM2Y/poY_6-UDhqtqnUT0ZMRSHCvjJfQ\"', 'primaryEmail': 'test09@gws.jasonengr.com', 'name': {'givenName': 'test09', 'familyName': 'LIN', 'fullName': 'test09 LIN'}, 'isAdmin': False, 'isDelegatedAdmin': False, 'lastLoginTime': '1970-01-01T00:00:00.000Z', 'creationTime': '2023-05-25T14:09:52.000Z', 'agreedToTerms': False, 'suspended': False, 'archived': False, 'changePasswordAtNextLogin': False, 'ipWhitelisted': False, 'emails': [{'address': 'test09@gws.jasonengr.com', 'primary': True}, {'address': 'test09@gws.jasonengr.com.test-google-a.com'}], 'languages': [{'languageCode': 'en', 'preference': 'preferred'}], 'nonEditableAliases': ['test09@gws.jasonengr.com.test-google-a.com'], 'customerId': 'C03objz98', 'orgUnitPath': '/', 'isMailboxSetup': True, 'isEnrolledIn2Sv': False, 'isEnforcedIn2Sv': False, 'includeInGlobalAddressList': True}, {'kind': 'admin#directory#user', 'id': '107118044991153696220', 'etag': '\"82YgmLpRVC5iA-bU28dUqy2uCKS7KMlDQDk3vW-TM2Y/Lx7dkjjW_kkI-z9KOI_oqqFk59w\"', 'primaryEmail': 'test10@gws.jasonengr.com', 'name': {'givenName': 'test10', 'familyName': 'LIN', 'fullName': 'test10 LIN'}, 'isAdmin': False, 'isDelegatedAdmin': False, 'lastLoginTime': '1970-01-01T00:00:00.000Z', 'creationTime': '2023-05-25T14:09:52.000Z', 'agreedToTerms': False, 'suspended': False, 'archived': False, 'changePasswordAtNextLogin': False, 'ipWhitelisted': False, 'emails': [{'address': 'test10@gws.jasonengr.com', 'primary': True}, {'address': 'test10@gws.jasonengr.com.test-google-a.com'}], 'languages': [{'languageCode': 'en', 'preference': 'preferred'}], 'nonEditableAliases': ['test10@gws.jasonengr.com.test-google-a.com'], 'customerId': 'C03objz98', 'orgUnitPath': '/', 'isMailboxSetup': True, 'isEnrolledIn2Sv': False, 'isEnforcedIn2Sv': False, 'includeInGlobalAddressList': True}, {'kind': 'admin#directory#user', 'id': '104302156881434476994', 'etag': '\"82YgmLpRVC5iA-bU28dUqy2uCKS7KMlDQDk3vW-TM2Y/UA5ILEuQ8XtQD4mwROQp_IVjSs0\"', 'primaryEmail': 'test11@gws.jasonengr.com', 'name': {'givenName': 'test11', 'familyName': 'LIN', 'fullName': 'test11 LIN'}, 'isAdmin': False, 'isDelegatedAdmin': False, 'lastLoginTime': '1970-01-01T00:00:00.000Z', 'creationTime': '2023-05-25T14:09:52.000Z', 'agreedToTerms': False, 'suspended': False, 'archived': False, 'changePasswordAtNextLogin': False, 'ipWhitelisted': False, 'emails': [{'address': 'test11@gws.jasonengr.com', 'primary': True}, {'address': 'test11@gws.jasonengr.com.test-google-a.com'}], 'languages': [{'languageCode': 'en', 'preference': 'preferred'}], 'nonEditableAliases': ['test11@gws.jasonengr.com.test-google-a.com'], 'customerId': 'C03objz98', 'orgUnitPath': '/', 'isMailboxSetup': True, 'isEnrolledIn2Sv': False, 'isEnforcedIn2Sv': False, 'includeInGlobalAddressList': True}, {'kind': 'admin#directory#user', 'id': '100229730736821403208', 'etag': '\"82YgmLpRVC5iA-bU28dUqy2uCKS7KMlDQDk3vW-TM2Y/ww7Ktoi1NLwjqVRJx8yS4FHbf8Y\"', 'primaryEmail': 'test12@gws.jasonengr.com', 'name': {'givenName': 'test12', 'familyName': 'LIN', 'fullName': 'test12 LIN'}, 'isAdmin': False, 'isDelegatedAdmin': False, 'lastLoginTime': '1970-01-01T00:00:00.000Z', 'creationTime': '2023-05-25T14:09:52.000Z', 'agreedToTerms': False, 'suspended': False, 'archived': False, 'changePasswordAtNextLogin': False, 'ipWhitelisted': False, 'emails': [{'address': 'test12@gws.jasonengr.com', 'primary': True}, {'address': 'test12@gws.jasonengr.com.test-google-a.com'}], 'languages': [{'languageCode': 'en', 'preference': 'preferred'}], 'nonEditableAliases': ['test12@gws.jasonengr.com.test-google-a.com'], 'customerId': 'C03objz98', 'orgUnitPath': '/', 'isMailboxSetup': True, 'isEnrolledIn2Sv': False, 'isEnforcedIn2Sv': False, 'includeInGlobalAddressList': True}, {'kind': 'admin#directory#user', 'id': '107767814143693551195', 'etag': '\"82YgmLpRVC5iA-bU28dUqy2uCKS7KMlDQDk3vW-TM2Y/eLj_4We29_-NMok8CvXMDQ9qd8A\"', 'primaryEmail': 'test13@gws.jasonengr.com', 'name': {'givenName': 'test13', 'familyName': 'LIN', 'fullName': 'test13 LIN'}, 'isAdmin': False, 'isDelegatedAdmin': False, 'lastLoginTime': '1970-01-01T00:00:00.000Z', 'creationTime': '2023-05-25T14:09:52.000Z', 'agreedToTerms': False, 'suspended': False, 'archived': False, 'changePasswordAtNextLogin': False, 'ipWhitelisted': False, 'emails': [{'address': 'test13@gws.jasonengr.com', 'primary': True}, {'address': 'test13@gws.jasonengr.com.test-google-a.com'}], 'languages': [{'languageCode': 'en', 'preference': 'preferred'}], 'nonEditableAliases': ['test13@gws.jasonengr.com.test-google-a.com'], 'customerId': 'C03objz98', 'orgUnitPath': '/', 'isMailboxSetup': True, 'isEnrolledIn2Sv': False, 'isEnforcedIn2Sv': False, 'includeInGlobalAddressList': True}, {'kind': 'admin#directory#user', 'id': '104803649236875195862', 'etag': '\"82YgmLpRVC5iA-bU28dUqy2uCKS7KMlDQDk3vW-TM2Y/f-wLBHTaUbjFErSN7DbiP0qSgGQ\"', 'primaryEmail': 'test14@gws.jasonengr.com', 'name': {'givenName': 'test14', 'familyName': 'LIN', 'fullName': 'test14 LIN'}, 'isAdmin': False, 'isDelegatedAdmin': False, 'lastLoginTime': '1970-01-01T00:00:00.000Z', 'creationTime': '2023-05-25T14:09:52.000Z', 'agreedToTerms': False, 'suspended': False, 'archived': False, 'changePasswordAtNextLogin': False, 'ipWhitelisted': False, 'emails': [{'address': 'test14@gws.jasonengr.com', 'primary': True}, {'address': 'test14@gws.jasonengr.com.test-google-a.com'}], 'languages': [{'languageCode': 'en', 'preference': 'preferred'}], 'nonEditableAliases': ['test14@gws.jasonengr.com.test-google-a.com'], 'customerId': 'C03objz98', 'orgUnitPath': '/', 'isMailboxSetup': True, 'isEnrolledIn2Sv': False, 'isEnforcedIn2Sv': False, 'includeInGlobalAddressList': True}, {'kind': 'admin#directory#user', 'id': '110505548609305840252', 'etag': '\"82YgmLpRVC5iA-bU28dUqy2uCKS7KMlDQDk3vW-TM2Y/kEGYONhlkx0Ouc2DOAVnIspz9rw\"', 'primaryEmail': 'test15@gws.jasonengr.com', 'name': {'givenName': 'test15', 'familyName': 'LIN', 'fullName': 'test15 LIN'}, 'isAdmin': False, 'isDelegatedAdmin': False, 'lastLoginTime': '1970-01-01T00:00:00.000Z', 'creationTime': '2023-05-25T14:09:52.000Z', 'agreedToTerms': False, 'suspended': False, 'archived': False, 'changePasswordAtNextLogin': False, 'ipWhitelisted': False, 'emails': [{'address': 'test15@gws.jasonengr.com', 'primary': True}, {'address': 'test15@gws.jasonengr.com.test-google-a.com'}], 'languages': [{'languageCode': 'en', 'preference': 'preferred'}], 'nonEditableAliases': ['test15@gws.jasonengr.com.test-google-a.com'], 'customerId': 'C03objz98', 'orgUnitPath': '/', 'isMailboxSetup': True, 'isEnrolledIn2Sv': False, 'isEnforcedIn2Sv': False, 'includeInGlobalAddressList': True}, {'kind': 'admin#directory#user', 'id': '108055829384347000592', 'etag': '\"82YgmLpRVC5iA-bU28dUqy2uCKS7KMlDQDk3vW-TM2Y/vAzgVqW2DHcnc1Bba6Ezd1WZVkQ\"', 'primaryEmail': 'test16@gws.jasonengr.com', 'name': {'givenName': 'test16', 'familyName': 'LIN', 'fullName': 'test16 LIN'}, 'isAdmin': False, 'isDelegatedAdmin': False, 'lastLoginTime': '1970-01-01T00:00:00.000Z', 'creationTime': '2023-05-25T14:09:52.000Z', 'agreedToTerms': False, 'suspended': False, 'archived': False, 'changePasswordAtNextLogin': False, 'ipWhitelisted': False, 'emails': [{'address': 'test16@gws.jasonengr.com', 'primary': True}, {'address': 'test16@gws.jasonengr.com.test-google-a.com'}], 'languages': [{'languageCode': 'en', 'preference': 'preferred'}], 'nonEditableAliases': ['test16@gws.jasonengr.com.test-google-a.com'], 'customerId': 'C03objz98', 'orgUnitPath': '/', 'isMailboxSetup': True, 'isEnrolledIn2Sv': False, 'isEnforcedIn2Sv': False, 'includeInGlobalAddressList': True}, {'kind': 'admin#directory#user', 'id': '109479606019244056080', 'etag': '\"82YgmLpRVC5iA-bU28dUqy2uCKS7KMlDQDk3vW-TM2Y/I1l0qr9msEDbSTKMytP1hWuxZ5c\"', 'primaryEmail': 'test17@gws.jasonengr.com', 'name': {'givenName': 'test17', 'familyName': 'LIN', 'fullName': 'test17 LIN'}, 'isAdmin': False, 'isDelegatedAdmin': False, 'lastLoginTime': '1970-01-01T00:00:00.000Z', 'creationTime': '2023-05-25T14:09:52.000Z', 'agreedToTerms': False, 'suspended': False, 'archived': False, 'changePasswordAtNextLogin': False, 'ipWhitelisted': False, 'emails': [{'address': 'test17@gws.jasonengr.com', 'primary': True}, {'address': 'test17@gws.jasonengr.com.test-google-a.com'}], 'languages': [{'languageCode': 'en', 'preference': 'preferred'}], 'nonEditableAliases': ['test17@gws.jasonengr.com.test-google-a.com'], 'customerId': 'C03objz98', 'orgUnitPath': '/', 'isMailboxSetup': True, 'isEnrolledIn2Sv': False, 'isEnforcedIn2Sv': False, 'includeInGlobalAddressList': True}, {'kind': 'admin#directory#user', 'id': '106477032832033063728', 'etag': '\"82YgmLpRVC5iA-bU28dUqy2uCKS7KMlDQDk3vW-TM2Y/ycPxhYubRtXsQ2L6CZYm9LIsuHM\"', 'primaryEmail': 'test18@gws.jasonengr.com', 'name': {'givenName': 'test18', 'familyName': 'LIN', 'fullName': 'test18 LIN'}, 'isAdmin': False, 'isDelegatedAdmin': False, 'lastLoginTime': '1970-01-01T00:00:00.000Z', 'creationTime': '2023-05-25T14:09:52.000Z', 'agreedToTerms': False, 'suspended': False, 'archived': False, 'changePasswordAtNextLogin': False, 'ipWhitelisted': False, 'emails': [{'address': 'test18@gws.jasonengr.com', 'primary': True}, {'address': 'test18@gws.jasonengr.com.test-google-a.com'}], 'languages': [{'languageCode': 'en', 'preference': 'preferred'}], 'nonEditableAliases': ['test18@gws.jasonengr.com.test-google-a.com'], 'customerId': 'C03objz98', 'orgUnitPath': '/', 'isMailboxSetup': True, 'isEnrolledIn2Sv': False, 'isEnforcedIn2Sv': False, 'includeInGlobalAddressList': True}, {'kind': 'admin#directory#user', 'id': '110947748067246719744', 'etag': '\"82YgmLpRVC5iA-bU28dUqy2uCKS7KMlDQDk3vW-TM2Y/olrpNRf3hoJwPMa1RRQzooQYoAY\"', 'primaryEmail': 'test19@gws.jasonengr.com', 'name': {'givenName': 'test19', 'familyName': 'LIN', 'fullName': 'test19 LIN'}, 'isAdmin': False, 'isDelegatedAdmin': False, 'lastLoginTime': '1970-01-01T00:00:00.000Z', 'creationTime': '2023-05-25T14:09:52.000Z', 'agreedToTerms': False, 'suspended': False, 'archived': False, 'changePasswordAtNextLogin': False, 'ipWhitelisted': False, 'emails': [{'address': 'test19@gws.jasonengr.com', 'primary': True}, {'address': 'test19@gws.jasonengr.com.test-google-a.com'}], 'languages': [{'languageCode': 'en', 'preference': 'preferred'}], 'nonEditableAliases': ['test19@gws.jasonengr.com.test-google-a.com'], 'customerId': 'C03objz98', 'orgUnitPath': '/', 'isMailboxSetup': True, 'isEnrolledIn2Sv': False, 'isEnforcedIn2Sv': False, 'includeInGlobalAddressList': True}, {'kind': 'admin#directory#user', 'id': '113744269335703254626', 'etag': '\"82YgmLpRVC5iA-bU28dUqy2uCKS7KMlDQDk3vW-TM2Y/kVFdI4C4OU6Sz53O_ADnh4S6ilM\"', 'primaryEmail': 'test20@gws.jasonengr.com', 'name': {'givenName': 'test20', 'familyName': 'LIN', 'fullName': 'test20 LIN'}, 'isAdmin': False, 'isDelegatedAdmin': False, 'lastLoginTime': '1970-01-01T00:00:00.000Z', 'creationTime': '2023-05-25T14:09:52.000Z', 'agreedToTerms': False, 'suspended': False, 'archived': False, 'changePasswordAtNextLogin': False, 'ipWhitelisted': False, 'emails': [{'address': 'test20@gws.jasonengr.com', 'primary': True}, {'address': 'test20@gws.jasonengr.com.test-google-a.com'}], 'languages': [{'languageCode': 'en', 'preference': 'preferred'}], 'nonEditableAliases': ['test20@gws.jasonengr.com.test-google-a.com'], 'customerId': 'C03objz98', 'orgUnitPath': '/', 'isMailboxSetup': True, 'isEnrolledIn2Sv': False, 'isEnforcedIn2Sv': False, 'includeInGlobalAddressList': True}, {'kind': 'admin#directory#user', 'id': '113904521661961533269', 'etag': '\"82YgmLpRVC5iA-bU28dUqy2uCKS7KMlDQDk3vW-TM2Y/HFJ64ET0ogEDKGTolRFLULzONo0\"', 'primaryEmail': 'whsiley@gws.jasonengr.com', 'name': {'givenName': 'Whsiley', 'familyName': 'Lin', 'fullName': 'Whsiley Lin'}, 'isAdmin': False, 'isDelegatedAdmin': False, 'lastLoginTime': '1970-01-01T00:00:00.000Z', 'creationTime': '2023-05-25T09:39:55.000Z', 'agreedToTerms': False, 'suspended': False, 'archived': False, 'changePasswordAtNextLogin': False, 'ipWhitelisted': False, 'emails': [{'address': 'whsiley@gws.jasonengr.com', 'primary': True}, {'address': 'whsiley@gws.jasonengr.com.test-google-a.com'}], 'languages': [{'languageCode': 'en', 'preference': 'preferred'}], 'nonEditableAliases': ['whsiley@gws.jasonengr.com.test-google-a.com'], 'customerId': 'C03objz98', 'orgUnitPath': '/', 'isMailboxSetup': True, 'isEnrolledIn2Sv': False, 'isEnforcedIn2Sv': False, 'includeInGlobalAddressList': True}]\n"
     ]
    }
   ],
   "source": [
    "print(users)"
   ]
  },
  {
   "cell_type": "code",
   "execution_count": 46,
   "id": "5e626c24",
   "metadata": {},
   "outputs": [
    {
     "name": "stdout",
     "output_type": "stream",
     "text": [
      "jason.c.lin@gws.jasonengr.com\n",
      "peter@gws.jasonengr.com\n",
      "test01@gws.jasonengr.com\n",
      "test02@gws.jasonengr.com\n",
      "test03@gws.jasonengr.com\n",
      "test04@gws.jasonengr.com\n",
      "test05@gws.jasonengr.com\n",
      "test06@gws.jasonengr.com\n",
      "test07@gws.jasonengr.com\n",
      "test08@gws.jasonengr.com\n",
      "test09@gws.jasonengr.com\n",
      "test10@gws.jasonengr.com\n",
      "test11@gws.jasonengr.com\n",
      "test12@gws.jasonengr.com\n",
      "test13@gws.jasonengr.com\n",
      "test14@gws.jasonengr.com\n",
      "test15@gws.jasonengr.com\n",
      "test16@gws.jasonengr.com\n",
      "test17@gws.jasonengr.com\n",
      "test18@gws.jasonengr.com\n",
      "test19@gws.jasonengr.com\n",
      "test20@gws.jasonengr.com\n",
      "whsiley@gws.jasonengr.com\n"
     ]
    }
   ],
   "source": [
    "# For each user\n",
    "for user in users:\n",
    "    user_email = user['primaryEmail']\n",
    "    print(user_email)"
   ]
  },
  {
   "cell_type": "code",
   "execution_count": 39,
   "id": "bb3540fc",
   "metadata": {},
   "outputs": [],
   "source": [
    "import googleapiclient.discovery\n",
    "\n",
    "credentials = service_account.Credentials.from_service_account_file('directory-test-387900-e6215fc116bf.json')"
   ]
  },
  {
   "cell_type": "code",
   "execution_count": 44,
   "id": "54437305",
   "metadata": {},
   "outputs": [
    {
     "ename": "AttributeError",
     "evalue": "'Resource' object has no attribute 'users'",
     "output_type": "error",
     "traceback": [
      "\u001b[0;31m---------------------------------------------------------------------------\u001b[0m",
      "\u001b[0;31mAttributeError\u001b[0m                            Traceback (most recent call last)",
      "Cell \u001b[0;32mIn[44], line 6\u001b[0m\n\u001b[1;32m      3\u001b[0m service \u001b[38;5;241m=\u001b[39m googleapiclient\u001b[38;5;241m.\u001b[39mdiscovery\u001b[38;5;241m.\u001b[39mbuild(\u001b[38;5;124m'\u001b[39m\u001b[38;5;124mpeople\u001b[39m\u001b[38;5;124m'\u001b[39m, \u001b[38;5;124m'\u001b[39m\u001b[38;5;124mv1\u001b[39m\u001b[38;5;124m'\u001b[39m, credentials\u001b[38;5;241m=\u001b[39mcredentials)\n\u001b[1;32m      5\u001b[0m \u001b[38;5;66;03m# Get the list of users in the OU.\u001b[39;00m\n\u001b[0;32m----> 6\u001b[0m users \u001b[38;5;241m=\u001b[39m \u001b[43mservice\u001b[49m\u001b[38;5;241;43m.\u001b[39;49m\u001b[43musers\u001b[49m()\u001b[38;5;241m.\u001b[39mlist(\u001b[38;5;28mfilter\u001b[39m\u001b[38;5;241m=\u001b[39m\u001b[38;5;124m'\u001b[39m\u001b[38;5;124morgUnitPath=ou-name\u001b[39m\u001b[38;5;124m'\u001b[39m)\u001b[38;5;241m.\u001b[39mexecute()\n",
      "\u001b[0;31mAttributeError\u001b[0m: 'Resource' object has no attribute 'users'"
     ]
    }
   ],
   "source": [
    "# Create the People API service object.\n",
    "service = googleapiclient.discovery.build('people', 'v1', credentials=credentials)\n",
    "\n",
    "# Get the list of users in the OU.\n",
    "users = service.users().list(filter='orgUnitPath=/test_subdomain_jasonengr').execute()"
   ]
  },
  {
   "cell_type": "code",
   "execution_count": null,
   "id": "eab6e67e",
   "metadata": {},
   "outputs": [],
   "source": [
    "\n",
    "# For each user, add their contacts to their contact list.\n",
    "for user in users['users']:\n",
    "    contacts = service.people().list(userId=user['id'], fields='names').execute()\n",
    "\n",
    "    # For each contact, add it to the user's contact list.\n",
    "    for contact in contacts['names']:\n",
    "        service.people().contacts().insert(userId=user['id'], body={\n",
    "            'name': contact['name']\n",
    "        }).execute()"
   ]
  }
 ],
 "metadata": {
  "kernelspec": {
   "display_name": "Python 3 (ipykernel)",
   "language": "python",
   "name": "python3"
  },
  "language_info": {
   "codemirror_mode": {
    "name": "ipython",
    "version": 3
   },
   "file_extension": ".py",
   "mimetype": "text/x-python",
   "name": "python",
   "nbconvert_exporter": "python",
   "pygments_lexer": "ipython3",
   "version": "3.10.8"
  }
 },
 "nbformat": 4,
 "nbformat_minor": 5
}
